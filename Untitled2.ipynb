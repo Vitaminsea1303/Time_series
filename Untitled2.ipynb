{
  "cells": [
    {
      "cell_type": "code",
      "execution_count": 3,
      "metadata": {
        "id": "39APNnjJqKjZ"
      },
      "outputs": [],
      "source": [
        "import pandas as pd\n",
        "from hmmlearn.hmm import GaussianHMM\n",
        "import numpy as np\n",
        "import matplotlib.pyplot as plt\n",
        "\n"
      ]
    },
    {
      "cell_type": "code",
      "execution_count": 5,
      "metadata": {
        "colab": {
          "base_uri": "https://localhost:8080/",
          "height": 423
        },
        "id": "Ug4b5E1msyXk",
        "outputId": "31b2f58d-52bf-4198-c5d1-78bb029186e0"
      },
      "outputs": [
        {
          "data": {
            "text/html": [
              "<div>\n",
              "<style scoped>\n",
              "    .dataframe tbody tr th:only-of-type {\n",
              "        vertical-align: middle;\n",
              "    }\n",
              "\n",
              "    .dataframe tbody tr th {\n",
              "        vertical-align: top;\n",
              "    }\n",
              "\n",
              "    .dataframe thead th {\n",
              "        text-align: right;\n",
              "    }\n",
              "</style>\n",
              "<table border=\"1\" class=\"dataframe\">\n",
              "  <thead>\n",
              "    <tr style=\"text-align: right;\">\n",
              "      <th></th>\n",
              "      <th>date</th>\n",
              "      <th>truong_1</th>\n",
              "      <th>truong_2</th>\n",
              "      <th>truong_3</th>\n",
              "      <th>truong_4</th>\n",
              "      <th>truong_5</th>\n",
              "    </tr>\n",
              "  </thead>\n",
              "  <tbody>\n",
              "    <tr>\n",
              "      <th>0</th>\n",
              "      <td>10.05.2013</td>\n",
              "      <td>4</td>\n",
              "      <td>58</td>\n",
              "      <td>3773</td>\n",
              "      <td>299.0</td>\n",
              "      <td>1</td>\n",
              "    </tr>\n",
              "    <tr>\n",
              "      <th>1</th>\n",
              "      <td>26.05.2013</td>\n",
              "      <td>4</td>\n",
              "      <td>58</td>\n",
              "      <td>3768</td>\n",
              "      <td>249.0</td>\n",
              "      <td>1</td>\n",
              "    </tr>\n",
              "    <tr>\n",
              "      <th>2</th>\n",
              "      <td>19.05.2013</td>\n",
              "      <td>4</td>\n",
              "      <td>58</td>\n",
              "      <td>4036</td>\n",
              "      <td>419.0</td>\n",
              "      <td>1</td>\n",
              "    </tr>\n",
              "    <tr>\n",
              "      <th>3</th>\n",
              "      <td>25.05.2013</td>\n",
              "      <td>4</td>\n",
              "      <td>58</td>\n",
              "      <td>12878</td>\n",
              "      <td>149.0</td>\n",
              "      <td>1</td>\n",
              "    </tr>\n",
              "    <tr>\n",
              "      <th>4</th>\n",
              "      <td>15.05.2013</td>\n",
              "      <td>4</td>\n",
              "      <td>58</td>\n",
              "      <td>12885</td>\n",
              "      <td>148.0</td>\n",
              "      <td>1</td>\n",
              "    </tr>\n",
              "    <tr>\n",
              "      <th>...</th>\n",
              "      <td>...</td>\n",
              "      <td>...</td>\n",
              "      <td>...</td>\n",
              "      <td>...</td>\n",
              "      <td>...</td>\n",
              "      <td>...</td>\n",
              "    </tr>\n",
              "    <tr>\n",
              "      <th>550033</th>\n",
              "      <td>07.11.2013</td>\n",
              "      <td>10</td>\n",
              "      <td>37</td>\n",
              "      <td>18474</td>\n",
              "      <td>199.0</td>\n",
              "      <td>1</td>\n",
              "    </tr>\n",
              "    <tr>\n",
              "      <th>550034</th>\n",
              "      <td>18.11.2013</td>\n",
              "      <td>10</td>\n",
              "      <td>37</td>\n",
              "      <td>18474</td>\n",
              "      <td>199.0</td>\n",
              "      <td>1</td>\n",
              "    </tr>\n",
              "    <tr>\n",
              "      <th>550035</th>\n",
              "      <td>24.11.2013</td>\n",
              "      <td>10</td>\n",
              "      <td>37</td>\n",
              "      <td>18484</td>\n",
              "      <td>199.0</td>\n",
              "      <td>1</td>\n",
              "    </tr>\n",
              "    <tr>\n",
              "      <th>550036</th>\n",
              "      <td>11.11.2013</td>\n",
              "      <td>10</td>\n",
              "      <td>37</td>\n",
              "      <td>19751</td>\n",
              "      <td>99.0</td>\n",
              "      <td>1</td>\n",
              "    </tr>\n",
              "    <tr>\n",
              "      <th>550037</th>\n",
              "      <td>26.11.2013</td>\n",
              "      <td>10</td>\n",
              "      <td>37</td>\n",
              "      <td>18498</td>\n",
              "      <td>199.0</td>\n",
              "      <td>1</td>\n",
              "    </tr>\n",
              "  </tbody>\n",
              "</table>\n",
              "<p>550038 rows × 6 columns</p>\n",
              "</div>"
            ],
            "text/plain": [
              "              date  truong_1  truong_2  truong_3  truong_4  truong_5\n",
              "0       10.05.2013         4        58      3773     299.0         1\n",
              "1       26.05.2013         4        58      3768     249.0         1\n",
              "2       19.05.2013         4        58      4036     419.0         1\n",
              "3       25.05.2013         4        58     12878     149.0         1\n",
              "4       15.05.2013         4        58     12885     148.0         1\n",
              "...            ...       ...       ...       ...       ...       ...\n",
              "550033  07.11.2013        10        37     18474     199.0         1\n",
              "550034  18.11.2013        10        37     18474     199.0         1\n",
              "550035  24.11.2013        10        37     18484     199.0         1\n",
              "550036  11.11.2013        10        37     19751      99.0         1\n",
              "550037  26.11.2013        10        37     18498     199.0         1\n",
              "\n",
              "[550038 rows x 6 columns]"
            ]
          },
          "execution_count": 5,
          "metadata": {},
          "output_type": "execute_result"
        }
      ],
      "source": [
        "df = pd.read_csv(\"/mnt/8E1E76BC1E769D41/Ki6/Phân tích chuỗi tgian/data-kiem-tra-2.csv\")\n",
        "df"
      ]
    },
    {
      "cell_type": "code",
      "execution_count": 6,
      "metadata": {
        "colab": {
          "base_uri": "https://localhost:8080/"
        },
        "id": "tASjrI7Zs4ns",
        "outputId": "3a33826a-c213-4136-978f-0d903bd81619"
      },
      "outputs": [
        {
          "data": {
            "text/plain": [
              "date         object\n",
              "truong_1      int64\n",
              "truong_2      int64\n",
              "truong_3      int64\n",
              "truong_4    float64\n",
              "truong_5      int64\n",
              "dtype: object"
            ]
          },
          "execution_count": 6,
          "metadata": {},
          "output_type": "execute_result"
        }
      ],
      "source": [
        "df.dtypes"
      ]
    },
    {
      "cell_type": "code",
      "execution_count": 7,
      "metadata": {
        "colab": {
          "base_uri": "https://localhost:8080/"
        },
        "id": "NJmgHqNvtQZ0",
        "outputId": "20838e3f-df0c-4a15-db3b-24115d740ac7"
      },
      "outputs": [
        {
          "data": {
            "text/plain": [
              "date        datetime64[ns]\n",
              "truong_1             int64\n",
              "truong_2             int64\n",
              "truong_3             int64\n",
              "truong_4           float64\n",
              "truong_5             int64\n",
              "dtype: object"
            ]
          },
          "execution_count": 7,
          "metadata": {},
          "output_type": "execute_result"
        }
      ],
      "source": [
        "df['date'] = pd.to_datetime(df['date'], format='%d.%m.%Y')\n",
        "df.dtypes"
      ]
    },
    {
      "cell_type": "code",
      "execution_count": 8,
      "metadata": {
        "id": "OLPn6eCPx8Ji"
      },
      "outputs": [],
      "source": [
        "df = df.groupby('date').sum().reset_index()"
      ]
    },
    {
      "cell_type": "code",
      "execution_count": 9,
      "metadata": {
        "id": "GXZpm2HjuDHl"
      },
      "outputs": [],
      "source": [
        "df.set_index('date', inplace=True)"
      ]
    },
    {
      "cell_type": "code",
      "execution_count": 10,
      "metadata": {
        "colab": {
          "base_uri": "https://localhost:8080/"
        },
        "id": "8K-TgOx0txIV",
        "outputId": "6e7f0aa1-1d18-4027-802c-760e128375a3"
      },
      "outputs": [
        {
          "name": "stdout",
          "output_type": "stream",
          "text": [
            "[26854.679351395327, 15117.798117137636, 25947.51894315077, 24360.991411255072, 29948.265740219707, 23405.073502927138, 29193.37656680782, 25085.844366951897, 15394.034086155789, 32506.18055597185, 14446.739159783834, 13223.988577113641, 21975.261759560122, 15583.962723067689, 30411.87121574281]\n"
          ]
        }
      ],
      "source": [
        "train_df = df[:-15]\n",
        "test_df = df[-15:]\n",
        "model_hmm = GaussianHMM(n_components=4, covariance_type=\"full\", random_state=42)\n",
        "model_hmm.fit(train_df['truong_2'].values.reshape(-1,1))\n",
        "\n",
        "predicted_prices = []\n",
        "current_price = train_df['truong_2'].values[-1]\n",
        "\n",
        "for _ in range(len(test_df)):\n",
        "    # Dự đoán trạng thái ẩn cho giá trị hiện tại\n",
        "    current_state = model_hmm.predict([[current_price]])[0]\n",
        "    # Lấy giá trị trung bình của trạng thái hiện tại để làm dự đoán cho bước tiếp theo\n",
        "    predicted_price = np.random.normal(model_hmm.means_[current_state][0], np.sqrt(model_hmm.covars_[current_state][0][0]))\n",
        "    predicted_prices.append(predicted_price)\n",
        "    # Cập nhật giá trị hiện tại\n",
        "    current_price = predicted_price\n",
        "print(predicted_prices)"
      ]
    },
    {
      "cell_type": "code",
      "execution_count": 12,
      "metadata": {},
      "outputs": [
        {
          "name": "stderr",
          "output_type": "stream",
          "text": [
            "2024-06-04 11:45:34.748584: I tensorflow/tsl/cuda/cudart_stub.cc:28] Could not find cuda drivers on your machine, GPU will not be used.\n",
            "2024-06-04 11:45:34.994443: I tensorflow/tsl/cuda/cudart_stub.cc:28] Could not find cuda drivers on your machine, GPU will not be used.\n",
            "2024-06-04 11:45:34.995677: I tensorflow/core/platform/cpu_feature_guard.cc:182] This TensorFlow binary is optimized to use available CPU instructions in performance-critical operations.\n",
            "To enable the following instructions: AVX2 FMA, in other operations, rebuild TensorFlow with the appropriate compiler flags.\n",
            "2024-06-04 11:45:36.005343: W tensorflow/compiler/tf2tensorrt/utils/py_utils.cc:38] TF-TRT Warning: Could not find TensorRT\n",
            "2024-06-04 11:45:39.210853: W tensorflow/tsl/framework/cpu_allocator_impl.cc:83] Allocation of 92396160 exceeds 10% of free system memory.\n"
          ]
        },
        {
          "name": "stdout",
          "output_type": "stream",
          "text": [
            "Epoch 1/5\n",
            "12030/12031 [============================>.] - ETA: 0s - loss: 2.3804e-04"
          ]
        },
        {
          "name": "stderr",
          "output_type": "stream",
          "text": [
            "2024-06-04 11:49:08.733981: W tensorflow/tsl/framework/cpu_allocator_impl.cc:83] Allocation of 39598560 exceeds 10% of free system memory.\n"
          ]
        },
        {
          "name": "stdout",
          "output_type": "stream",
          "text": [
            "12031/12031 [==============================] - 237s 19ms/step - loss: 2.3803e-04 - val_loss: 2.2974e-04\n",
            "Epoch 2/5\n",
            "12031/12031 [==============================] - 227s 19ms/step - loss: 2.3483e-04 - val_loss: 2.2965e-04\n",
            "Epoch 3/5\n",
            "12031/12031 [==============================] - 223s 19ms/step - loss: 2.3364e-04 - val_loss: 2.2807e-04\n",
            "Epoch 4/5\n",
            "12031/12031 [==============================] - 222s 18ms/step - loss: 2.3303e-04 - val_loss: 2.2759e-04\n",
            "Epoch 5/5\n",
            "12031/12031 [==============================] - 218s 18ms/step - loss: 2.3234e-04 - val_loss: 2.3038e-04\n"
          ]
        },
        {
          "name": "stderr",
          "output_type": "stream",
          "text": [
            "2024-06-04 12:04:26.840327: W tensorflow/tsl/framework/cpu_allocator_impl.cc:83] Allocation of 39598560 exceeds 10% of free system memory.\n"
          ]
        },
        {
          "name": "stdout",
          "output_type": "stream",
          "text": [
            "5157/5157 [==============================] - 29s 5ms/step\n",
            "Root Mean Squared Error (RMSE): 898.54552554855\n"
          ]
        }
      ],
      "source": [
        "import pandas as pd\n",
        "import numpy as np\n",
        "from sklearn.preprocessing import MinMaxScaler\n",
        "from sklearn.model_selection import train_test_split\n",
        "from sklearn.metrics import mean_squared_error\n",
        "from tensorflow.keras.models import Sequential\n",
        "from tensorflow.keras.layers import  LSTM, Dropout, Dense\n",
        "\n",
        "# Đọc dữ liệu từ tệp CSV\n",
        "data = pd.read_csv('/mnt/8E1E76BC1E769D41/Ki6/Phân tích chuỗi tgian/data-kiem-tra-2.csv')\n",
        "\n",
        "# Chuyển đổi cột date sang định dạng datetime\n",
        "data['date'] = pd.to_datetime(data['date'], format='%d.%m.%Y')\n",
        "\n",
        "# Chỉ sử dụng một cột để dự đoán (ví dụ: truong_4)\n",
        "close_prices = data['truong_4'].values\n",
        "\n",
        "# Chuẩn hóa dữ liệu\n",
        "scaler = MinMaxScaler(feature_range=(0, 1))\n",
        "scaled_prices = scaler.fit_transform(close_prices.reshape(-1, 1))\n",
        "\n",
        "# Tạo dữ liệu đầu vào cho mô hình\n",
        "sequence_length = 60\n",
        "X = []\n",
        "y = []\n",
        "for i in range(sequence_length, len(scaled_prices)):\n",
        "    X.append(scaled_prices[i-sequence_length:i, 0])\n",
        "    y.append(scaled_prices[i, 0])\n",
        "\n",
        "X = np.array(X)\n",
        "y = np.array(y)\n",
        "\n",
        "# Chuyển đổi dữ liệu thành định dạng phù hợp cho RNN-LSTM\n",
        "X = X.reshape((X.shape[0], X.shape[1], 1))\n",
        "\n",
        "# Chia dữ liệu thành tập huấn luyện (70%) và kiểm tra (30%)\n",
        "X_train, X_test, y_train, y_test = train_test_split(X, y, test_size=0.3, random_state=42)\n",
        "\n",
        "\n",
        "model = Sequential()\n",
        "\n",
        "# Lớp RNN để trích xuất đặc trưng không gian\n",
        "\n",
        "# Lớp LSTM để xử lý tuần tự\n",
        "model.add(LSTM(50, return_sequences=False))\n",
        "model.add(Dropout(0.2))\n",
        "\n",
        "# Lớp đầu ra\n",
        "model.add(Dense(1))\n",
        "\n",
        "# Biên dịch mô hình\n",
        "model.compile(optimizer='adam', loss='mean_squared_error')\n",
        "\n",
        "# Huấn luyện mô hình\n",
        "history = model.fit(X_train, y_train, epochs=5, batch_size=32, validation_data=(X_test, y_test))\n",
        "\n",
        "# Dự đoán trên tập kiểm tra\n",
        "predicted_prices = model.predict(X_test)\n",
        "predicted_prices = scaler.inverse_transform(predicted_prices)\n",
        "\n",
        "# Chuyển đổi y_test về giá gốc\n",
        "real_prices = scaler.inverse_transform(y_test.reshape(-1, 1))\n",
        "\n",
        "# Tính toán RMSE\n",
        "rmse = np.sqrt(mean_squared_error(real_prices, predicted_prices))\n",
        "print(f'Root Mean Squared Error (RMSE): {rmse}')\n"
      ]
    }
  ],
  "metadata": {
    "colab": {
      "provenance": []
    },
    "kernelspec": {
      "display_name": "Python 3",
      "name": "python3"
    },
    "language_info": {
      "codemirror_mode": {
        "name": "ipython",
        "version": 3
      },
      "file_extension": ".py",
      "mimetype": "text/x-python",
      "name": "python",
      "nbconvert_exporter": "python",
      "pygments_lexer": "ipython3",
      "version": "3.8.10"
    }
  },
  "nbformat": 4,
  "nbformat_minor": 0
}
